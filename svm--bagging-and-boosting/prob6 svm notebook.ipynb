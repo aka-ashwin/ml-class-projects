{
 "cells": [
  {
   "cell_type": "code",
   "execution_count": 2,
   "metadata": {
    "collapsed": false
   },
   "outputs": [],
   "source": [
    "import pandas as pd\n",
    "import numpy as np\n",
    "import matplotlib.pyplot as plt\n",
    "\n",
    "#for prob 5\n",
    "import math\n",
    "\n",
    "#for prob 6\n",
    "from sklearn.svm import SVC\n",
    "from sklearn import svm\n",
    "from copy import deepcopy"
   ]
  },
  {
   "cell_type": "code",
   "execution_count": 3,
   "metadata": {
    "collapsed": false
   },
   "outputs": [
    {
     "name": "stdout",
     "output_type": "stream",
     "text": [
      "\\item $K = 5, \\eps = 0.1; P_{bad} = 0.00856$\n",
      "\\item $K = 5, \\eps = 0.2; P_{bad} = 0.05792$\n",
      "\\item $K = 5, \\eps = 0.4; P_{bad} = 0.31744$\n",
      "\\item $K = 10, \\eps = 0.1; P_{bad} = 0.00089092$\n",
      "\\item $K = 10, \\eps = 0.2; P_{bad} = 0.01958144$\n",
      "\\item $K = 10, \\eps = 0.4; P_{bad} = 0.26656768$\n",
      "\\item $K = 20, \\eps = 0.1; P_{bad} = 3.92988232713e-06$\n",
      "\\item $K = 20, \\eps = 0.2; P_{bad} = 0.00157912054917$\n",
      "\\item $K = 20, \\eps = 0.4; P_{bad} = 0.186092021415$\n"
     ]
    }
   ],
   "source": [
    "#problem 5 - evaluate P(bad)\n",
    "tie_weight = .5\n",
    "\n",
    "def pbad_n(K,eps,n):\n",
    "    log_prob_component = n*np.log(eps) + (K-n)*np.log(1.-eps)\n",
    "    log_fact_component = np.log(math.factorial(K)) - np.log((math.factorial(n)*math.factorial(K-n))) \n",
    "    return np.exp(log_prob_component + log_fact_component)\n",
    "\n",
    "def pbad(K,eps):\n",
    "    pout = 0.\n",
    "    if(K%2 == 0):\n",
    "        sumstart = int((K/2) +1)\n",
    "        pout += tie_weight*pbad_n(K,eps,int(K/2))\n",
    "    else:\n",
    "        sumstart = int((K+1)/2)\n",
    "    \n",
    "    for nwrong in range(sumstart,K+1):\n",
    "        currcontrib = pbad_n(K,eps,nwrong)\n",
    "        pout += currcontrib\n",
    "        \n",
    "#         print(\"nwrong = \" + str(nwrong) + \"; contribution = \" + str(currcontrib))\n",
    "    \n",
    "    return pout\n",
    "\n",
    "for K in [5,10,20]:\n",
    "    for eps in [.1,.2,.4]:\n",
    "        p_exa = pbad(K,eps)\n",
    "        print(\"\\item $K = \" + str(K) + \", \\eps = \" + str(eps) + \"; P_{bad} = \" + str(p_exa) +\"$\")\n",
    "        \n",
    "        "
   ]
  },
  {
   "cell_type": "code",
   "execution_count": 4,
   "metadata": {
    "collapsed": false
   },
   "outputs": [
    {
     "name": "stdout",
     "output_type": "stream",
     "text": [
      "(6, 2)\n",
      "6\n"
     ]
    }
   ],
   "source": [
    "#problem 6 - SVM and margin separators\n",
    "\n",
    "points = [[1.5,6],[2,1],[3,4],[4,4],[3.5,2],[4.5,4.5]]\n",
    "classes = [1,1,1,0,0,0]\n",
    "Xi = np.asarray(points)\n",
    "yi = classes\n",
    "y = deepcopy(yi)\n",
    "print(Xi.shape)\n",
    "print(len(yi))"
   ]
  },
  {
   "cell_type": "code",
   "execution_count": 5,
   "metadata": {
    "collapsed": false
   },
   "outputs": [
    {
     "name": "stdout",
     "output_type": "stream",
     "text": [
      "(0.48507125007266594, 2)\n"
     ]
    }
   ],
   "source": [
    "#for my input line, give distance of all points\n",
    "\n",
    "def dist_to_line(point, m_in, b_in):\n",
    "    #based on a formula for wikipedia\n",
    "    #uses eqn of line ax + by + c = 0; can set a = m_in, b = -1, c = b_in\n",
    "    a = m_in\n",
    "    b = -1.\n",
    "    c = b_in\n",
    "    \n",
    "    numer = abs(a*point[0] + b*point[1] + c)\n",
    "    return numer/(np.sqrt(a**2. + b**2.))\n",
    "    \n",
    "def closest_dist_to_line(points, m_in, b_in, return_i = False):\n",
    "    best_dist = dist_to_line(points[0], m_in, b_in)\n",
    "    best_i = 0\n",
    "    for i in range(1,len(points)):\n",
    "        curr_dist = dist_to_line(points[i],m_in,b_in)\n",
    "        if(curr_dist < best_dist):\n",
    "            best_dist = curr_dist\n",
    "            best_i = i\n",
    "    if(return_i):\n",
    "        return (best_dist, best_i)\n",
    "    else:\n",
    "        return best_dist\n",
    "\n",
    "\n",
    "def evaluate_guess_line(points_in, guess_m, guess_b):\n",
    "    print(closest_dist_to_line(points_in, guess_m, guess_b, return_i = True))\n",
    "    \n",
    "evaluate_guess_line(Xi, 4.,-10.)"
   ]
  },
  {
   "cell_type": "code",
   "execution_count": 6,
   "metadata": {
    "collapsed": false
   },
   "outputs": [],
   "source": [
    "#6b \n",
    "#just setup - see near bottom of notebook for plots and distance\n",
    "linsvm = SVC(C=100.,kernel = 'linear')\n",
    "linsvm.fit(Xi,yi)"
   ]
  },
  {
   "cell_type": "code",
   "execution_count": 7,
   "metadata": {
    "collapsed": false
   },
   "outputs": [
    {
     "name": "stdout",
     "output_type": "stream",
     "text": [
      "(0.48502356866976165, 3)\n"
     ]
    },
    {
     "data": {
      "text/plain": [
       "array([ 4.99941891,  1.49909204,  0.99985473, -0.99970945, -1.00014527,\n",
       "       -1.74943707])"
      ]
     },
     "execution_count": 7,
     "metadata": {},
     "output_type": "execute_result"
    }
   ],
   "source": [
    "# dotprods = linsvm.decision_function(Xi)\n",
    "\n",
    "def eval_lin_svm(linsvm, Xi):\n",
    "    w = linsvm.coef_[0]\n",
    "    lin_guess_slope = -(w[0]+10**(-10.)) / (w[1]+10.**(-10.))\n",
    "    lin_guess_int =  -(linsvm.intercept_[0]) / (w[1]+ 10.**(-10.))\n",
    "\n",
    "    evaluate_guess_line(Xi, lin_guess_slope, lin_guess_int)\n",
    "    \n",
    "# eval_lin_svm(linsvm,Xi)\n",
    "# dotprods"
   ]
  },
  {
   "cell_type": "code",
   "execution_count": 10,
   "metadata": {
    "collapsed": false
   },
   "outputs": [
    {
     "data": {
      "text/plain": [
       "array([[ 1.5,  6. ],\n",
       "       [ 2. ,  1. ],\n",
       "       [ 3. ,  4. ],\n",
       "       [ 4. ,  4. ],\n",
       "       [ 5. ,  2. ],\n",
       "       [ 4.5,  4.5]])"
      ]
     },
     "execution_count": 10,
     "metadata": {},
     "output_type": "execute_result"
    }
   ],
   "source": [
    "Xc = deepcopy(Xi)\n",
    "Xc[4][0] = 5"
   ]
  },
  {
   "cell_type": "code",
   "execution_count": 11,
   "metadata": {
    "collapsed": true
   },
   "outputs": [],
   "source": [
    "#6d setup\n",
    "X = deepcopy(Xi)\n",
    "# X[4][0] = 3.5\n",
    "y = deepcopy(yi)\n",
    "y[5] = 1."
   ]
  },
  {
   "cell_type": "code",
   "execution_count": 12,
   "metadata": {
    "collapsed": false
   },
   "outputs": [],
   "source": [
    "def plot_contours_nicely(Xin, kernel, C, show = True, savefolder = None, yin = yi, retsvm = False, polydeg = 4):\n",
    "    xposns = []\n",
    "    yposns = []\n",
    "    for i in range(0,len(yin)):\n",
    "        xposns.append(Xin[i][0])\n",
    "        yposns.append(Xin[i][1])\n",
    "    xposns = np.asarray(xposns)\n",
    "    yposns = np.asarray(yposns)\n",
    "\n",
    "\n",
    "    x_min, x_max = min(xposns)-1.,max(xposns)+1.\n",
    "    y_min, y_max = min(yposns)-1.,max(yposns)+1.\n",
    "\n",
    "    xrange = np.arange(x_min,x_max,.01)\n",
    "    yrange = np.arange(y_min,y_max,.01)\n",
    "\n",
    "    xx,yy = np.meshgrid(xrange,yrange)\n",
    "\n",
    "    #'poly','rbf'\n",
    "    # .1,1.,10.,100.\n",
    "\n",
    "    currsvm = SVC(C=C, kernel=kernel,degree=polydeg)\n",
    "    currsvm.fit(Xin,yin)\n",
    "    curr_dotprods = currsvm.decision_function(Xin)\n",
    "\n",
    "\n",
    "    plt.clf()\n",
    "    preds = currsvm.predict(np.c_[xx.ravel(),yy.ravel()])\n",
    "    preds = preds.reshape(xx.shape)\n",
    "\n",
    "    xrange2 = np.arange(x_min,x_max,.1)\n",
    "    yrange2 = np.arange(y_min,y_max,.1)\n",
    "\n",
    "    dists = currsvm.decision_function(np.c_[xx.ravel(),yy.ravel()])\n",
    "    dists = dists.reshape(xx.shape)\n",
    "\n",
    "    plt.contourf(xx,yy,preds,alpha=.5)\n",
    "    plt.contour(xx,yy,dists,levels=[-1,0.,1.],linestyles = ('dashed','solid','dashed'), colors = ('k','k','k'))\n",
    "    \n",
    "    \n",
    "    marker0 = 'ko'\n",
    "    marker1 = 'ks'\n",
    "    xplots = [[],[]]\n",
    "    yplots = [[],[]]\n",
    "    for i in range(0,len(yin)):\n",
    "        ind = 1\n",
    "        if(yin[i] == yin[0]):\n",
    "            ind = 0\n",
    "        xplots[ind].append(xposns[i])\n",
    "        yplots[ind].append(yposns[i])\n",
    "    \n",
    "    plt.plot(xplots[0],yplots[0],marker0)\n",
    "    plt.plot(xplots[1],yplots[1],marker1)\n",
    "#     plt.plot(xposns[0:3],yposns[0:3],'ko')\n",
    "#     plt.plot(xposns[5],yposns[5],'ko')\n",
    "#     plt.plot(xposns[3:5],yposns[3:5], 'k*')\n",
    "\n",
    "    plt.title(\"Decision Boundary: Kernel = \" + str(kernel) + \"; C = \" + str(C))\n",
    "\n",
    "    if(not savefolder == None):\n",
    "        plt.savefig(savefolder + '/' + 'boundary_' + str(kernel) + \"_C_\" + str(C/1000)[2:])\n",
    "    if(show):\n",
    "        plt.show()\n",
    "\n",
    "#         plot_svm_margins(currsvm,X,y,\"Margin Separator for \" + str(kernel) + \" kernel, C = \" + str(C))\n",
    "#     print(curr_dotprods)\n",
    "    print(currsvm.score(Xin,yin))\n",
    "    if(retsvm):\n",
    "        return currsvm"
   ]
  },
  {
   "cell_type": "code",
   "execution_count": 13,
   "metadata": {
    "collapsed": false
   },
   "outputs": [],
   "source": [
    "def plot_contours_all(Xs,kernels,Cs,show=True,savefolder=None,y=yi,retsvms=False,polydeg=4):\n",
    "    svms = []\n",
    "    for X in Xs:\n",
    "        for kernel in kernels:\n",
    "            for C in Cs:\n",
    "                if(retsvms):\n",
    "                    currsvm = plot_contours_nicely(X,kernel,C,show,savefolder,y,retsvms,polydeg)\n",
    "                    svms.append(currsvm)\n",
    "                else:\n",
    "                     plot_contours_nicely(X,kernel,C,show,savefolder,y,retsvms,polydeg)\n",
    "                        \n",
    "    if(retsvms):\n",
    "        return svms"
   ]
  },
  {
   "cell_type": "code",
   "execution_count": 14,
   "metadata": {
    "collapsed": false
   },
   "outputs": [
    {
     "name": "stdout",
     "output_type": "stream",
     "text": [
      "1.0\n",
      "1.0\n",
      "(0.48502356866976165, 3)\n",
      "(2.7500076295320281e-10, 4)\n"
     ]
    }
   ],
   "source": [
    "#6b and 6c plot\n",
    "sixab_svms = plot_contours_all([Xi,Xc],['linear'],[100.],True,None,yi,True)\n",
    "\n",
    "for svm_exa in sixab_svms:\n",
    "    eval_lin_svm(svm_exa,Xi)\n",
    "#note - evaluation function doesn't work for vertical lines, like the separator for part c\n",
    "#visually and logically, the separator is a vertical line and ought to be halfway between x = 4 and x = 3\n",
    "#so the distance to the closest point(s) will be .5"
   ]
  },
  {
   "cell_type": "code",
   "execution_count": 15,
   "metadata": {
    "collapsed": false
   },
   "outputs": [
    {
     "name": "stdout",
     "output_type": "stream",
     "text": [
      "0.666666666667\n",
      "0.5\n",
      "0.833333333333\n",
      "0.833333333333\n",
      "(0.31963073414732346, 4)\n"
     ]
    }
   ],
   "source": [
    "#6d plot\n",
    "sixd_svms = plot_contours_all([Xi],['linear'],[.1,1.,10.,100.],True,'6d_plots',y,True)\n",
    "\n",
    "#print closest point + its distance for C = 100 svm\n",
    "eval_lin_svm(sixd_svms[3],Xi)"
   ]
  },
  {
   "cell_type": "code",
   "execution_count": 77,
   "metadata": {
    "collapsed": false
   },
   "outputs": [
    {
     "name": "stdout",
     "output_type": "stream",
     "text": [
      "(0.3196307343208542, 4)\n"
     ]
    }
   ],
   "source": []
  },
  {
   "cell_type": "code",
   "execution_count": 16,
   "metadata": {
    "collapsed": false
   },
   "outputs": [
    {
     "name": "stdout",
     "output_type": "stream",
     "text": [
      "0.833333333333\n",
      "0.833333333333\n",
      "0.833333333333\n",
      "1.0\n"
     ]
    }
   ],
   "source": [
    "#6e plots - poly\n",
    "deg = 4\n",
    "poly_svms = plot_contours_all([X],['poly'],[.1,1.,10.,100.],True,'6e_poly_plots',y,True,deg)\n",
    "\n",
    "#gives perfect score on training set for C = 100, 5/6 for lower C ( = more tolerance of error)"
   ]
  },
  {
   "cell_type": "code",
   "execution_count": 18,
   "metadata": {
    "collapsed": false
   },
   "outputs": [
    {
     "name": "stdout",
     "output_type": "stream",
     "text": [
      "0.666666666667\n",
      "0.833333333333\n",
      "1.0\n",
      "1.0\n"
     ]
    }
   ],
   "source": [
    "#6e plots - rbf\n",
    "\n",
    "rbf_svms = plot_contours_all([X],['rbf'],[.1,1.,10.,100.],True,'6e_rbf_plots',y,True)\n",
    "\n",
    "#gives perfect score on training set for C = 10, 100."
   ]
  },
  {
   "cell_type": "code",
   "execution_count": null,
   "metadata": {
    "collapsed": true
   },
   "outputs": [],
   "source": []
  }
 ],
 "metadata": {
  "kernelspec": {
   "display_name": "Python 3",
   "language": "python",
   "name": "python3"
  },
  "language_info": {
   "codemirror_mode": {
    "name": "ipython",
    "version": 3
   },
   "file_extension": ".py",
   "mimetype": "text/x-python",
   "name": "python",
   "nbconvert_exporter": "python",
   "pygments_lexer": "ipython3",
   "version": "3.5.1"
  }
 },
 "nbformat": 4,
 "nbformat_minor": 0
}
